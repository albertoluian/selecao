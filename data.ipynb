{
 "cells": [
  {
   "cell_type": "code",
   "execution_count": 4,
   "metadata": {},
   "outputs": [],
   "source": [
    "import numpy as np\n",
    "import pandas as pd\n",
    "def compare(header1, header2, data, key, index, eq=True):\n",
    "    if eq:\n",
    "           return (data[(data[header1]==data[header2])][key] == values[key][index]).sum()   \n",
    "    return (data[(data[header1]!=data[header2])][key] == values[key][index]).sum()\n",
    "def filterData(header, data, key, index):\n",
    "    return data[(data[key] == values[key][index])][header]\n",
    "arr = np.array(range(101))\n",
    "values = {\n",
    "    \"gender\":[\"M\", \"F\"],\n",
    "    \"NationalITy\":  ['KuwaIT','lebanon','Egypt','SaudiArabia','USA','Jordan','venzuela','Iran','Tunis','Morocco','Syria','Palestine','Iraq','Lybia'],\n",
    "    \"PlaceofBirth\": ['KuwaIT','lebanon','Egypt','SaudiArabia','USA','Jordan','venzuela','Iran','Tunis','Morocco','Syria','Palestine','Iraq','Lybia'],\n",
    "    \"StageID\": [\"lowerlevel\", \"MiddleSchool\", \"HighSchool\"],\n",
    "    \"GradeID\": [ \"G-01\", \"G-02\", \"G-03\", \"G-04\", \"G-05\", \"G-06\", \"G-07\", \"G-08\", \"G-09\", \"G-10\", \"G-11\", \"G-12\"],\n",
    "    \"SectionID\":[\"A\", \"B\", \"C\"],\n",
    "    \"Topic\": ['English','Spanish', 'French','Arabic','IT','Math','Chemistry', 'Biology', 'Science','History','Quran','Geology'],\n",
    "    \"Semester\": [\"F\", \"S\"],\n",
    "    \"Relation\":[\"Mum\", \"Father\"],\n",
    "    \"raisedhands\":arr,\n",
    "    \"VisITedResources\":arr,\n",
    "    \"AnnouncementsView\":arr,\n",
    "    \"Discussion\":arr,\n",
    "    \"ParentAnsweringSurvey\":[\"Yes\", \"No\"],\n",
    "    \"ParentschoolSatisfaction\":[\"Good\", \"Bad\"],\n",
    "    \"StudentAbsenceDays\":[\"Above-7\", \"Under-7\"],\n",
    "    \"Class\":[\"M\", \"L\", \"H\"]\n",
    "} #possible values\n",
    "\n",
    "\n"
   ]
  },
  {
   "cell_type": "code",
   "execution_count": 5,
   "metadata": {},
   "outputs": [],
   "source": [
    "data = pd.read_csv('Edu-Data.csv', sep=\",\") #read data\n",
    "data = data.replace(\"KW\", \"KuwaIT\") #fix this name difference\n",
    "header = data.columns #get collumns identificators\n",
    "\n"
   ]
  },
  {
   "cell_type": "code",
   "execution_count": 6,
   "metadata": {},
   "outputs": [
    {
     "name": "stdout",
     "output_type": "stream",
     "text": [
      "Missing values: 0\n"
     ]
    }
   ],
   "source": [
    "print(f'Missing values: {data.isna().sum().sum()}') # Don't have missing data\n",
    "for key in values.keys(): #verify if all values are in the values\n",
    "    sum = 0\n",
    "    for j in values[key]:\n",
    "        sum += (data[key] == j).sum()\n",
    "    if(sum<480):\n",
    "        print(f\"Missing {480-sum} values from collumn {key}\")"
   ]
  },
  {
   "cell_type": "code",
   "execution_count": 7,
   "metadata": {},
   "outputs": [
    {
     "name": "stdout",
     "output_type": "stream",
     "text": [
      "While foreigners have a fault percentage of 21.82%,\n",
      "natives have almost double: 42.12%\n"
     ]
    }
   ],
   "source": [
    "#Relation between foreigners and absence days\n",
    "above7Foreigner = compare(header[1], header[2], data, \"StudentAbsenceDays\", 0, False)\n",
    "under7Foreigner = compare(header[1], header[2], data, \"StudentAbsenceDays\", 1, False)\n",
    "above7 = compare(header[1], header[2], data, \"StudentAbsenceDays\", 0)\n",
    "under7 = compare(header[1], header[2], data, \"StudentAbsenceDays\", 1)\n",
    "print(f\"While foreigners have a fault percentage of \\\n",
    "{round(above7Foreigner*100/(above7Foreigner+under7Foreigner),2)}%,\\nnatives have almost double: {round(above7*100/(under7+above7),2)}%\")\n"
   ]
  },
  {
   "cell_type": "code",
   "execution_count": 8,
   "metadata": {},
   "outputs": [
    {
     "name": "stdout",
     "output_type": "stream",
     "text": [
      "Bad parents satisfaction: 39.17%\n",
      "Good parents satisfaction: 60.83%\n"
     ]
    }
   ],
   "source": [
    "\n",
    "totalGoods = (data[header[14]] == \"Good\").sum()\n",
    "totalBads = (data[header[14]] == \"Bad\").sum()\n",
    "print(f'Bad parents satisfaction: {round(totalBads*100/480, 2)}%\\\n",
    "\\nGood parents satisfaction: {round(totalGoods*100/480, 2)}%')\n"
   ]
  },
  {
   "cell_type": "code",
   "execution_count": 9,
   "metadata": {},
   "outputs": [
    {
     "name": "stdout",
     "output_type": "stream",
     "text": [
      "Bad parents satisfaction of low absence students: 30.1%\n",
      "Good parents satisfaction of low absence students: 69.9%\n",
      "Bad parents satisfaction of high absence students: 52.88%\n",
      "Good parents satisfaction of high absence students: 47.12%\n"
     ]
    }
   ],
   "source": [
    "under = filterData(header[14], data, header[15], 1)\n",
    "above = filterData(header[14], data, header[15], 0)\n",
    "goodsUnder7 = (under == \"Good\").sum()\n",
    "badsUnder7 = (under == \"Bad\").sum()\n",
    "goodsAbove7 = (above == \"Good\").sum()\n",
    "badsAbove7 = (above == \"Bad\").sum()\n",
    "print(f'Bad parents satisfaction of low absence students: {round(badsUnder7 *100/(goodsUnder7+badsUnder7), 2)}%\\\n",
    "\\nGood parents satisfaction of low absence students: {round(goodsUnder7*100/(goodsUnder7+badsUnder7), 2)}%')\n",
    "print(f'Bad parents satisfaction of high absence students: {round(badsAbove7 *100/(goodsAbove7+badsAbove7), 2)}%\\\n",
    "\\nGood parents satisfaction of high absence students: {round(goodsAbove7*100/(goodsAbove7+badsAbove7), 2)}%')\n"
   ]
  }
 ],
 "metadata": {
  "kernelspec": {
   "display_name": "Python 3.11.0 ('venv': venv)",
   "language": "python",
   "name": "python3"
  },
  "language_info": {
   "codemirror_mode": {
    "name": "ipython",
    "version": 3
   },
   "file_extension": ".py",
   "mimetype": "text/x-python",
   "name": "python",
   "nbconvert_exporter": "python",
   "pygments_lexer": "ipython3",
   "version": "3.11.0"
  },
  "orig_nbformat": 4,
  "vscode": {
   "interpreter": {
    "hash": "ca9bfa678bbf4573b1ed7244cc7b8a9a62eb34ba18e3ca99da9420e1d396e40a"
   }
  }
 },
 "nbformat": 4,
 "nbformat_minor": 2
}
