{
 "cells": [
  {
   "cell_type": "code",
   "execution_count": 89,
   "metadata": {},
   "outputs": [],
   "source": [
    "import numpy as np\n",
    "import pandas as pd\n",
    "def compare(header1, header2, data, key, index, eq=True)->float:\n",
    "    '''This function return the sum of values of a key when values of header1 and header2 rotules are equals or differents\\n\n",
    "       header1 -> first rotule to compare\\n\n",
    "       header2 -> second rotule to compare\\n\n",
    "       data -> dataframe\\n\n",
    "       key -> rotule to extract from comparison between header 1 and header2\\n\n",
    "       index -> value of key to find and return the sum\n",
    "       eq -> flag to the comparison between header1 and header2'''\n",
    "    if eq:\n",
    "           return (data[(data[header1]==data[header2])][key] == values[key][index]).sum()   \n",
    "    return (data[(data[header1]!=data[header2])][key] == values[key][index]).sum()\n",
    "def filterData(header, data, key, index)->pd.DataFrame:\n",
    "    '''This function return the dataframe of an especific header when a rotule(key) have some value\\n\n",
    "       header -> rotule values to return\\n\n",
    "       data -> dataframe\\n\n",
    "       key -> rotule to extract from comparison\\n\n",
    "       index -> value of key to compare\\n'''\n",
    "    return data[(data[key] == values[key][index])][header]\n",
    "arr = np.array(range(101))\n",
    "values = {\n",
    "    \"gender\":[\"M\", \"F\"],\n",
    "    \"NationalITy\":  ['KuwaIT','lebanon','Egypt','SaudiArabia','USA','Jordan','venzuela','Iran','Tunis','Morocco','Syria','Palestine','Iraq','Lybia'],\n",
    "    \"PlaceofBirth\": ['KuwaIT','lebanon','Egypt','SaudiArabia','USA','Jordan','venzuela','Iran','Tunis','Morocco','Syria','Palestine','Iraq','Lybia'],\n",
    "    \"StageID\": [\"lowerlevel\", \"MiddleSchool\", \"HighSchool\"],\n",
    "    \"GradeID\": [ \"G-01\", \"G-02\", \"G-03\", \"G-04\", \"G-05\", \"G-06\", \"G-07\", \"G-08\", \"G-09\", \"G-10\", \"G-11\", \"G-12\"],\n",
    "    \"SectionID\":[\"A\", \"B\", \"C\"],\n",
    "    \"Topic\": ['English','Spanish', 'French','Arabic','IT','Math','Chemistry', 'Biology', 'Science','History','Quran','Geology'],\n",
    "    \"Semester\": [\"F\", \"S\"],\n",
    "    \"Relation\":[\"Mum\", \"Father\"],\n",
    "    \"raisedhands\":arr,\n",
    "    \"VisITedResources\":arr,\n",
    "    \"AnnouncementsView\":arr,\n",
    "    \"Discussion\":arr,\n",
    "    \"ParentAnsweringSurvey\":[True, False],\n",
    "    \"ParentschoolSatisfaction\":[\"Good\", \"Bad\"],\n",
    "    \"StudentAbsenceDays\":[\"Above-7\", \"Under-7\"],\n",
    "    \"Class\":[\"M\", \"L\", \"H\"]\n",
    "} #possible values\n",
    "\n",
    "\n"
   ]
  },
  {
   "cell_type": "code",
   "execution_count": 148,
   "metadata": {},
   "outputs": [],
   "source": [
    "data = pd.read_csv('Edu-Data.csv', sep=\",\") #read data\n",
    "data = data.replace(\"KW\", \"KuwaIT\") #fix this name difference\n",
    "data = data.replace(\"Yes\", True)\n",
    "data = data.replace(\"No\", False)\n",
    "header = data.columns #get collumns identificators\n"
   ]
  },
  {
   "cell_type": "code",
   "execution_count": 91,
   "metadata": {},
   "outputs": [
    {
     "name": "stdout",
     "output_type": "stream",
     "text": [
      "Missing values: 0\n"
     ]
    }
   ],
   "source": [
    "print(f'Missing values: {data.isna().sum().sum()}') # Don't have missing data\n",
    "for key in values.keys(): #verify if all values are in the values\n",
    "    sum = 0\n",
    "    for j in values[key]:\n",
    "        sum += (data[key] == j).sum()\n",
    "    if(sum<480):\n",
    "        print(f\"Missing {480-sum} values from collumn {key}\")"
   ]
  },
  {
   "cell_type": "code",
   "execution_count": 92,
   "metadata": {},
   "outputs": [
    {
     "name": "stdout",
     "output_type": "stream",
     "text": [
      "raisedhands              50.0\n",
      "VisITedResources         65.0\n",
      "AnnouncementsView        33.0\n",
      "Discussion               39.0\n",
      "ParentAnsweringSurvey     1.0\n",
      "dtype: float64\n"
     ]
    }
   ],
   "source": [
    "#selecting numeric data to calculate media, median, correlation and standard deviation\n",
    "numericData = data[[header[9], header[10], header[11], header[12], header[13]]]\n",
    "print(numericData.median())\n"
   ]
  },
  {
   "cell_type": "code",
   "execution_count": 93,
   "metadata": {},
   "outputs": [
    {
     "name": "stdout",
     "output_type": "stream",
     "text": [
      "raisedhands              46.775000\n",
      "VisITedResources         54.797917\n",
      "AnnouncementsView        37.918750\n",
      "Discussion               43.283333\n",
      "ParentAnsweringSurvey     0.562500\n",
      "dtype: float64\n"
     ]
    }
   ],
   "source": [
    "#media\n",
    "print(numericData.mean())\n",
    "raiseHandMedia = numericData.mean()[0]"
   ]
  },
  {
   "cell_type": "code",
   "execution_count": 94,
   "metadata": {},
   "outputs": [
    {
     "name": "stdout",
     "output_type": "stream",
     "text": [
      "                       raisedhands  VisITedResources  AnnouncementsView  \\\n",
      "raisedhands               1.000000          0.691572           0.643918   \n",
      "VisITedResources          0.691572          1.000000           0.594500   \n",
      "AnnouncementsView         0.643918          0.594500           1.000000   \n",
      "Discussion                0.339386          0.243292           0.417290   \n",
      "ParentAnsweringSurvey     0.316570          0.382472           0.396357   \n",
      "\n",
      "                       Discussion  ParentAnsweringSurvey  \n",
      "raisedhands              0.339386               0.316570  \n",
      "VisITedResources         0.243292               0.382472  \n",
      "AnnouncementsView        0.417290               0.396357  \n",
      "Discussion               1.000000               0.232197  \n",
      "ParentAnsweringSurvey    0.232197               1.000000  \n"
     ]
    }
   ],
   "source": [
    "#correlation\n",
    "print(numericData.corr())\n"
   ]
  },
  {
   "cell_type": "code",
   "execution_count": 95,
   "metadata": {},
   "outputs": [
    {
     "name": "stdout",
     "output_type": "stream",
     "text": [
      "raisedhands              30.779223\n",
      "VisITedResources         33.080007\n",
      "AnnouncementsView        26.611244\n",
      "Discussion               27.637735\n",
      "ParentAnsweringSurvey     0.496596\n",
      "dtype: float64\n"
     ]
    }
   ],
   "source": [
    "#standard deviation\n",
    "print(numericData.std())"
   ]
  },
  {
   "cell_type": "code",
   "execution_count": 96,
   "metadata": {},
   "outputs": [
    {
     "name": "stdout",
     "output_type": "stream",
     "text": [
      "  gender NationalITy PlaceofBirth       StageID GradeID SectionID Topic  \\\n",
      "0      M      KuwaIT       KuwaIT  MiddleSchool    G-02         A    IT   \n",
      "\n",
      "  Semester Relation  raisedhands  VisITedResources  AnnouncementsView  \\\n",
      "0        F   Father           10                80               12.0   \n",
      "\n",
      "   Discussion ParentAnsweringSurvey ParentschoolSatisfaction  \\\n",
      "0        70.0                  True                     Good   \n",
      "\n",
      "  StudentAbsenceDays Class  \n",
      "0            Under-7     M  \n"
     ]
    }
   ],
   "source": [
    "print(data.mode().head(1))"
   ]
  },
  {
   "cell_type": "code",
   "execution_count": 132,
   "metadata": {},
   "outputs": [
    {
     "name": "stdout",
     "output_type": "stream",
     "text": [
      "Low absences percentage: 60.21%\n",
      "High absences percentage: 39.79%\n"
     ]
    }
   ],
   "source": [
    "absences = data.value_counts([header[15]])\n",
    "print(f\"Low absences percentage: {round(absences['Under-7']*100/480,2)}%\")\n",
    "print(f\"High absences percentage: {round(absences['Above-7']*100/480,2)}%\")"
   ]
  },
  {
   "cell_type": "code",
   "execution_count": 97,
   "metadata": {},
   "outputs": [
    {
     "name": "stdout",
     "output_type": "stream",
     "text": [
      "While foreigners have a fault percentage of 21.82%,\n",
      "natives have almost double: 42.12%\n"
     ]
    }
   ],
   "source": [
    "#Relation between foreigners and absence days\n",
    "above7Foreigner = compare(header[1], header[2], data, \"StudentAbsenceDays\", 0, False)\n",
    "under7Foreigner = compare(header[1], header[2], data, \"StudentAbsenceDays\", 1, False)\n",
    "above7 = compare(header[1], header[2], data, \"StudentAbsenceDays\", 0)\n",
    "under7 = compare(header[1], header[2], data, \"StudentAbsenceDays\", 1)\n",
    "print(f\"While foreigners have a fault percentage of \\\n",
    "{round(above7Foreigner*100/(above7Foreigner+under7Foreigner),2)}%,\\nnatives have almost double: {round(above7*100/(under7+above7),2)}%\")\n"
   ]
  },
  {
   "cell_type": "code",
   "execution_count": 98,
   "metadata": {},
   "outputs": [
    {
     "name": "stdout",
     "output_type": "stream",
     "text": [
      "Bad parents satisfaction: 39.17%\n",
      "Good parents satisfaction: 60.83%\n"
     ]
    }
   ],
   "source": [
    "# Parents satisfaction percentages\n",
    "totalGoods = (data[header[14]] == \"Good\").sum()\n",
    "totalBads = (data[header[14]] == \"Bad\").sum()\n",
    "print(f'Bad parents satisfaction: {round(totalBads*100/480, 2)}%\\\n",
    "\\nGood parents satisfaction: {round(totalGoods*100/480, 2)}%')\n"
   ]
  },
  {
   "cell_type": "code",
   "execution_count": 99,
   "metadata": {},
   "outputs": [
    {
     "name": "stdout",
     "output_type": "stream",
     "text": [
      "Bad parents satisfaction of low absence students: 30.1%\n",
      "Good parents satisfaction of low absence students: 69.9%\n",
      "Bad parents satisfaction of high absence students: 52.88%\n",
      "Good parents satisfaction of high absence students: 47.12%\n"
     ]
    }
   ],
   "source": [
    "#Relation between low/high absences and parents satisfaction\n",
    "under = filterData(header[14], data, header[15], 1)\n",
    "above = filterData(header[14], data, header[15], 0)\n",
    "counts = under.value_counts()\n",
    "goodsUnder7 = counts[\"Good\"]\n",
    "badsUnder7 = counts[\"Bad\"]\n",
    "counts = above.value_counts()\n",
    "goodsAbove7 = counts[\"Good\"]\n",
    "badsAbove7 = counts[\"Bad\"]\n",
    "print(f'Bad parents satisfaction of low absence students: {round(badsUnder7 *100/(goodsUnder7+badsUnder7), 2)}%\\\n",
    "\\nGood parents satisfaction of low absence students: {round(goodsUnder7*100/(goodsUnder7+badsUnder7), 2)}%')\n",
    "print(f'Bad parents satisfaction of high absence students: {round(badsAbove7 *100/(goodsAbove7+badsAbove7), 2)}%\\\n",
    "\\nGood parents satisfaction of high absence students: {round(goodsAbove7*100/(goodsAbove7+badsAbove7), 2)}%')\n"
   ]
  },
  {
   "cell_type": "code",
   "execution_count": 130,
   "metadata": {},
   "outputs": [
    {
     "name": "stdout",
     "output_type": "stream",
     "text": [
      "Low absences number in high media of raise hand: 80.08%\n",
      "High absences number in high media of raise hand: 19.92%\n"
     ]
    }
   ],
   "source": [
    "aboveMediaHand = data[data[header[9]] > raiseHandMedia]\n",
    "absences = aboveMediaHand[header[15]]\n",
    "absences = absences.value_counts()\n",
    "under = absences[\"Under-7\"]\n",
    "above = absences[\"Above-7\"]\n",
    "\n",
    "print(f\"Low absences number in high media of raise hand: {round(under*100/(under+above),2)}%\\\n",
    "\\nHigh absences number in high media of raise hand: {round(above*100/(under+above),2)}%\")\n"
   ]
  },
  {
   "cell_type": "code",
   "execution_count": 193,
   "metadata": {},
   "outputs": [
    {
     "name": "stdout",
     "output_type": "stream",
     "text": [
      "Course with highest absence above-7 percentage: Chemistry, percentage: 50.0%\n"
     ]
    }
   ],
   "source": [
    "maxPercentageTopic = \"\"\n",
    "maxPercentage = 0\n",
    "for topic in data[[header[6], header[15]]].value_counts([header[15], header[6]])[[\"Under-7\", \"Above-7\"]].groupby(['Topic']):\n",
    "    \n",
    "    u = topic[1]['Under-7'][0]\n",
    "    a = topic[1]['Above-7'][0]\n",
    "    abovePercentage = a/(u+a)\n",
    "    if(abovePercentage>maxPercentage):\n",
    "        maxPercentage = abovePercentage\n",
    "        maxPercentageTopic = topic[0][0]\n",
    "print(f\"Course with highest absence above-7 percentage: {maxPercentageTopic}, percentage: {round(maxPercentage*100,2)}%\")"
   ]
  }
 ],
 "metadata": {
  "kernelspec": {
   "display_name": "Python 3.11.0 ('venv': venv)",
   "language": "python",
   "name": "python3"
  },
  "language_info": {
   "codemirror_mode": {
    "name": "ipython",
    "version": 3
   },
   "file_extension": ".py",
   "mimetype": "text/x-python",
   "name": "python",
   "nbconvert_exporter": "python",
   "pygments_lexer": "ipython3",
   "version": "3.11.0"
  },
  "orig_nbformat": 4,
  "vscode": {
   "interpreter": {
    "hash": "ca9bfa678bbf4573b1ed7244cc7b8a9a62eb34ba18e3ca99da9420e1d396e40a"
   }
  }
 },
 "nbformat": 4,
 "nbformat_minor": 2
}
